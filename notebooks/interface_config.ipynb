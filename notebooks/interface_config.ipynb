{
 "cells": [
  {
   "cell_type": "code",
   "execution_count": 0,
   "metadata": {
    "application/vnd.databricks.v1+cell": {
     "cellMetadata": {
      "byteLimit": 2048000,
      "rowLimit": 10000
     },
     "inputWidgets": {},
     "nuid": "5aceac9b-037d-47b4-b350-645eb042151c",
     "showTitle": false,
     "tableResultSettingsMap": {},
     "title": ""
    }
   },
   "outputs": [],
   "source": [
    "import logging\n",
    "import io\n",
    "from pathlib import Path\n",
    "import gradio as gr\n",
    "from databricks.sdk import WorkspaceClient\n",
    "from databricks.sdk.service.serving import ChatMessage, ChatMessageRole\n",
    "from maud.interface.config import load_config\n",
    "import json\n",
    "from PIL import Image\n",
    "\n",
    "logging.basicConfig(level=logging.INFO)\n",
    "logger = logging.getLogger(__name__)\n",
    "\n",
    "# Initialize the Databricks Workspace Client\n",
    "workspace_client = WorkspaceClient()\n",
    "\n",
    "# Load configuration\n",
    "app_config = load_config(\"../implementations/interfaces/doc_retriever/app_config.yaml\")"
   ]
  },
  {
   "cell_type": "code",
   "execution_count": 0,
   "metadata": {
    "application/vnd.databricks.v1+cell": {
     "cellMetadata": {
      "byteLimit": 2048000,
      "rowLimit": 10000
     },
     "inputWidgets": {},
     "nuid": "d54ef09b-996f-46ff-b775-94a97111a6f5",
     "showTitle": false,
     "tableResultSettingsMap": {},
     "title": ""
    }
   },
   "outputs": [],
   "source": [
    "messages = [ChatMessage(role=ChatMessageRole.USER, content=\"What is machine learning?\")]"
   ]
  },
  {
   "cell_type": "code",
   "execution_count": 0,
   "metadata": {
    "application/vnd.databricks.v1+cell": {
     "cellMetadata": {
      "byteLimit": 2048000,
      "rowLimit": 10000
     },
     "inputWidgets": {},
     "nuid": "cfaef3a1-f633-4731-b75c-34829a45b4be",
     "showTitle": false,
     "tableResultSettingsMap": {},
     "title": ""
    }
   },
   "outputs": [],
   "source": [
    "response = workspace_client.serving_endpoints.query(\n",
    "        name=app_config.serving_endpoint, messages=messages\n",
    "    )"
   ]
  },
  {
   "cell_type": "code",
   "execution_count": 0,
   "metadata": {
    "application/vnd.databricks.v1+cell": {
     "cellMetadata": {
      "byteLimit": 2048000,
      "rowLimit": 10000
     },
     "inputWidgets": {},
     "nuid": "943062e5-f92f-42f0-a7d0-a17c0360aa04",
     "showTitle": false,
     "tableResultSettingsMap": {},
     "title": ""
    }
   },
   "outputs": [],
   "source": [
    "import requests\n",
    "\n",
    "# Get the workspace URL and token from the workspace client\n",
    "workspace_url = workspace_client.config.host\n",
    "token = workspace_client.config.token\n",
    "\n",
    "# Construct the serving endpoint URL\n",
    "\n",
    "\n",
    "endpoint_url = f\"{workspace_url}/serving-endpoints/{app_config.serving_endpoint}/invocations\"\n",
    "\n",
    "# Prepare the request headers\n",
    "headers = {\n",
    "    \"Authorization\": f\"Bearer {token}\",\n",
    "    \"Content-Type\": \"application/json\"\n",
    "}\n",
    "\n",
    "# Prepare the request payload\n",
    "payload = {\n",
    "    \"messages\": [\n",
    "        {\n",
    "            \"role\": \"system\", \n",
    "            \"content\": \"Respond with So... and keep it short.\"\n",
    "        },\n",
    "        {\n",
    "            \"role\": \"user\", \n",
    "            \"content\": \"What is the factor of safety for strapping?\"\n",
    "        }\n",
    "    ]\n",
    "}\n",
    "\n",
    "# Make the REST request\n",
    "response = requests.post(\n",
    "    endpoint_url,\n",
    "    headers=headers,\n",
    "    json=payload\n",
    ")\n",
    "\n",
    "# Check response status and get result\n",
    "if response.status_code == 200:\n",
    "    result = response.json()\n",
    "    print(result)\n",
    "else:\n",
    "    print(f\"Error: {response.status_code}\")\n",
    "    print(response.text)\n"
   ]
  },
  {
   "cell_type": "code",
   "execution_count": 0,
   "metadata": {
    "application/vnd.databricks.v1+cell": {
     "cellMetadata": {
      "byteLimit": 2048000,
      "rowLimit": 10000
     },
     "inputWidgets": {},
     "nuid": "a3bd20fc-6be6-48c3-a901-abdf32e2dc8f",
     "showTitle": false,
     "tableResultSettingsMap": {},
     "title": ""
    }
   },
   "outputs": [],
   "source": [
    "result['choices'][0]['message']['content']"
   ]
  },
  {
   "cell_type": "code",
   "execution_count": 0,
   "metadata": {
    "application/vnd.databricks.v1+cell": {
     "cellMetadata": {
      "byteLimit": 2048000,
      "rowLimit": 10000
     },
     "inputWidgets": {},
     "nuid": "df9fe86a-5804-41cc-90af-f4db78fcf9be",
     "showTitle": false,
     "tableResultSettingsMap": {},
     "title": ""
    }
   },
   "outputs": [],
   "source": [
    "# Format documents for gradio chat display\n",
    "documents = result.get(\"custom_outputs\", {}).get(\"documents\", [])\n",
    "formatted_docs = []\n",
    "\n",
    "for doc in documents:\n",
    "    metadata = doc.get(\"metadata\", {})\n",
    "    content = doc.get(\"page_content\", \"\")\n",
    "    \n",
    "    formatted_text = f\"\"\"\n",
    "Source: {metadata.get('filename', 'Unknown')}\n",
    "Type: {metadata.get('type', 'Unknown')}\n",
    "ID: {metadata.get('id', 'Unknown')}\n",
    "\n",
    "Content:\n",
    "{content}\n",
    "\"\"\"\n",
    "    formatted_docs.append(formatted_text)\n",
    "\n",
    "\"\\n\\n---\\n\\n\".join(formatted_docs)"
   ]
  }
 ],
 "metadata": {
  "application/vnd.databricks.v1+notebook": {
   "computePreferences": null,
   "dashboards": [],
   "environmentMetadata": null,
   "language": "python",
   "notebookMetadata": {
    "pythonIndentUnit": 2
   },
   "notebookName": "interface_config",
   "widgets": {}
  },
  "kernelspec": {
   "display_name": "Python 3",
   "language": "python",
   "name": "python3"
  },
  "language_info": {
   "name": "python"
  }
 },
 "nbformat": 4,
 "nbformat_minor": 0
}
