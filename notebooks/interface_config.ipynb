{
 "cells": [
  {
   "cell_type": "code",
   "execution_count": 1,
   "metadata": {},
   "outputs": [
    {
     "name": "stderr",
     "output_type": "stream",
     "text": [
      "INFO:databricks.sdk:loading DEFAULT profile from ~/.databrickscfg: host, token\n"
     ]
    }
   ],
   "source": [
    "import logging\n",
    "import io\n",
    "from pathlib import Path\n",
    "import gradio as gr\n",
    "from databricks.sdk import WorkspaceClient\n",
    "from databricks.sdk.service.serving import ChatMessage, ChatMessageRole\n",
    "from maud.interface.config import load_config\n",
    "import json\n",
    "from PIL import Image\n",
    "\n",
    "logging.basicConfig(level=logging.INFO)\n",
    "logger = logging.getLogger(__name__)\n",
    "\n",
    "# Initialize the Databricks Workspace Client\n",
    "workspace_client = WorkspaceClient()\n",
    "\n",
    "# Load configuration\n",
    "app_config = load_config(\"../implementations/interfaces/doc_retriever/app_config.yaml\")"
   ]
  },
  {
   "cell_type": "code",
   "execution_count": 2,
   "metadata": {},
   "outputs": [],
   "source": [
    "messages = [ChatMessage(role=ChatMessageRole.USER, content=\"What is machine learning?\")]"
   ]
  },
  {
   "cell_type": "code",
   "execution_count": 3,
   "metadata": {},
   "outputs": [],
   "source": [
    "response = workspace_client.serving_endpoints.query(\n",
    "        name=app_config.serving_endpoint, messages=messages\n",
    "    )"
   ]
  },
  {
   "cell_type": "code",
   "execution_count": 12,
   "metadata": {},
   "outputs": [
    {
     "name": "stdout",
     "output_type": "stream",
     "text": [
      "{'choices': [{'message': {'role': 'assistant', 'content': \"The factor of safety for fabric materials used in overhead lifts is usually 20, but it's recommended to consult the manufacturer's catalog for specific information on product characteristics and load ratings.\", 'refusal': None, 'name': None, 'tool_calls': None, 'tool_call_id': None}, 'index': 0, 'finish_reason': 'stop', 'logprobs': None}], 'usage': None, 'id': 'b2308d5b-f801-44f0-9358-afdf079c8bf7', 'model': None, 'object': 'chat.completion', 'created': 1739334993, 'custom_outputs': {'message_history': [{'role': 'system', 'content': 'Respond with So... and keep it short.'}, {'role': 'user', 'content': 'What is the factor of safety for strapping?'}, {'role': 'tool', 'content': \"Passage: A Fabric straps of woven material such as nylon, dacron, etc.are most often used for and hoisting the aircraft structure to keep the skin surfaces from being marred or scratched . Nylon and dacron webbings are more resistant to abrasion, have less moisture absorption, quick drying and are resistant to rot and mold. However , longed exposure to high temperature and low humidity will reduce its moisture content and consequently make it brittle and subject to failure It has been found that nylon straps exposed to 125 degrees F(52 degrees C.) air for 120 hours failed at lower than normal load, If these conditions are anticipated, polypropylene straps should be used instead of nylon. lifting pro-\\nB In general, webbing straps must be matched closely to the service conditions and have adequate protective devices and increased factors of safety . Some webbing straps have wire woven in them for strength. Manufacturer's catalogs should be consulted for information on product characteristics and load ratings. Factor of safety for fabric materials used in overhead lifts usually is 20. However , consult the manufacturer' s catalog and follow its recommendations to match the service conditions .\\nC Based on safety test data, it has been determined that nylon web slings have severely reduced capacity when used to lift loads having sharp edges, ie. when the radius is less than 3/16 inch (.48 cm.) Figure 1 shows the rated capacity of nylon rope slings .\\n3/16,  = (.48). 3/16, REDUCTION IN RATED CAPACITY % = NONE. 5/32,  = (.397). 5/32, REDUCTION IN RATED CAPACITY % = 5. 1/8,  = (.318). 1/8, REDUCTION IN RATED CAPACITY % = 15. 3/32,  = (.238). 3/32, REDUCTION IN RATED CAPACITY % = 25. 1/16,  = (.159). 1/16, REDUCTION IN RATED CAPACITY % = 40. 1/32,  = (.079). 1/32, REDUCTION IN RATED CAPACITY % = 55. ,  = . , REDUCTION IN RATED CAPACITY % = 85\\n3-20-05\\nPAGE 1\\nOCT 10/90\\\\n Document URI: \\\\nPassage: E Check that tethering lines are taut.\\nNOTE: Revlew the procedures with all crew members so they can anticipate problems of safety to personnel and alrcraft.\\\\n Document URI: \\\\nPassage: A Forward Fuselage The sling used should be 12t0 18 inches (30.48 t0 45.72 cm) wide and rated at 15,000 pounds (6804 Kg) maximum safe working load.\\nCAUTION: VENT ANY CRUSHING OF FUSELAGE.\\nB. sling similar to that above can be fabricated in short time if the materials are available.\\nNOTE: A safety factor of 5 to (ultlmate strength to maximum working load) should be Included In the design calculatlons.\\nC Place thick padding between the sling and skin to distribute load and reduce local abrasion.\\nD. Hook sling t0 crane and take up slack.\\n3-20-03\\nPAGE 6\\nOCT 10/90\\nFIGURE 3\\\\n Document URI: \\\\n\"}], 'documents': [{'id': None, 'metadata': {'img_path': '', 'filename': 'D8200-ARM.pdf', 'type': 'text', 'id': 51539607558.0}, 'page_content': \"A Fabric straps of woven material such as nylon, dacron, etc.are most often used for and hoisting the aircraft structure to keep the skin surfaces from being marred or scratched . Nylon and dacron webbings are more resistant to abrasion, have less moisture absorption, quick drying and are resistant to rot and mold. However , longed exposure to high temperature and low humidity will reduce its moisture content and consequently make it brittle and subject to failure It has been found that nylon straps exposed to 125 degrees F(52 degrees C.) air for 120 hours failed at lower than normal load, If these conditions are anticipated, polypropylene straps should be used instead of nylon. lifting pro-\\nB In general, webbing straps must be matched closely to the service conditions and have adequate protective devices and increased factors of safety . Some webbing straps have wire woven in them for strength. Manufacturer's catalogs should be consulted for information on product characteristics and load ratings. Factor of safety for fabric materials used in overhead lifts usually is 20. However , consult the manufacturer' s catalog and follow its recommendations to match the service conditions .\\nC Based on safety test data, it has been determined that nylon web slings have severely reduced capacity when used to lift loads having sharp edges, ie. when the radius is less than 3/16 inch (.48 cm.) Figure 1 shows the rated capacity of nylon rope slings .\\n3/16,  = (.48). 3/16, REDUCTION IN RATED CAPACITY % = NONE. 5/32,  = (.397). 5/32, REDUCTION IN RATED CAPACITY % = 5. 1/8,  = (.318). 1/8, REDUCTION IN RATED CAPACITY % = 15. 3/32,  = (.238). 3/32, REDUCTION IN RATED CAPACITY % = 25. 1/16,  = (.159). 1/16, REDUCTION IN RATED CAPACITY % = 40. 1/32,  = (.079). 1/32, REDUCTION IN RATED CAPACITY % = 55. ,  = . , REDUCTION IN RATED CAPACITY % = 85\\n3-20-05\\nPAGE 1\\nOCT 10/90\", 'type': 'Document'}, {'id': None, 'metadata': {'img_path': '', 'filename': 'D8200-ARM.pdf', 'type': 'text', 'id': 42949673000.0}, 'page_content': 'E Check that tethering lines are taut.\\nNOTE: Revlew the procedures with all crew members so they can anticipate problems of safety to personnel and alrcraft.', 'type': 'Document'}, {'id': None, 'metadata': {'img_path': '', 'filename': 'D8200-ARM.pdf', 'type': 'text', 'id': 42949673007.0}, 'page_content': 'A Forward Fuselage The sling used should be 12t0 18 inches (30.48 t0 45.72 cm) wide and rated at 15,000 pounds (6804 Kg) maximum safe working load.\\nCAUTION: VENT ANY CRUSHING OF FUSELAGE.\\nB. sling similar to that above can be fabricated in short time if the materials are available.\\nNOTE: A safety factor of 5 to (ultlmate strength to maximum working load) should be Included In the design calculatlons.\\nC Place thick padding between the sling and skin to distribute load and reduce local abrasion.\\nD. Hook sling t0 crane and take up slack.\\n3-20-03\\nPAGE 6\\nOCT 10/90\\nFIGURE 3', 'type': 'Document'}]}}\n"
     ]
    }
   ],
   "source": [
    "import requests\n",
    "\n",
    "# Get the workspace URL and token from the workspace client\n",
    "workspace_url = workspace_client.config.host\n",
    "token = workspace_client.config.token\n",
    "\n",
    "# Construct the serving endpoint URL\n",
    "\n",
    "\n",
    "endpoint_url = f\"{workspace_url}/serving-endpoints/{app_config.serving_endpoint}/invocations\"\n",
    "\n",
    "# Prepare the request headers\n",
    "headers = {\n",
    "    \"Authorization\": f\"Bearer {token}\",\n",
    "    \"Content-Type\": \"application/json\"\n",
    "}\n",
    "\n",
    "# Prepare the request payload\n",
    "payload = {\n",
    "    \"messages\": [\n",
    "        {\n",
    "            \"role\": \"system\", \n",
    "            \"content\": \"Respond with So... and keep it short.\"\n",
    "        },\n",
    "        {\n",
    "            \"role\": \"user\", \n",
    "            \"content\": \"What is the factor of safety for strapping?\"\n",
    "        }\n",
    "    ]\n",
    "}\n",
    "\n",
    "# Make the REST request\n",
    "response = requests.post(\n",
    "    endpoint_url,\n",
    "    headers=headers,\n",
    "    json=payload\n",
    ")\n",
    "\n",
    "# Check response status and get result\n",
    "if response.status_code == 200:\n",
    "    result = response.json()\n",
    "    print(result)\n",
    "else:\n",
    "    print(f\"Error: {response.status_code}\")\n",
    "    print(response.text)\n"
   ]
  },
  {
   "cell_type": "code",
   "execution_count": 14,
   "metadata": {},
   "outputs": [
    {
     "data": {
      "text/plain": [
       "\"The factor of safety for fabric materials used in overhead lifts is usually 20, but it's recommended to consult the manufacturer's catalog for specific information on product characteristics and load ratings.\""
      ]
     },
     "execution_count": 14,
     "metadata": {},
     "output_type": "execute_result"
    }
   ],
   "source": [
    "result['choices'][0]['message']['content']"
   ]
  },
  {
   "cell_type": "code",
   "execution_count": 18,
   "metadata": {},
   "outputs": [
    {
     "data": {
      "text/plain": [
       "\"\\nSource: D8200-ARM.pdf\\nType: text\\nID: 51539607558.0\\n\\nContent:\\nA Fabric straps of woven material such as nylon, dacron, etc.are most often used for and hoisting the aircraft structure to keep the skin surfaces from being marred or scratched . Nylon and dacron webbings are more resistant to abrasion, have less moisture absorption, quick drying and are resistant to rot and mold. However , longed exposure to high temperature and low humidity will reduce its moisture content and consequently make it brittle and subject to failure It has been found that nylon straps exposed to 125 degrees F(52 degrees C.) air for 120 hours failed at lower than normal load, If these conditions are anticipated, polypropylene straps should be used instead of nylon. lifting pro-\\nB In general, webbing straps must be matched closely to the service conditions and have adequate protective devices and increased factors of safety . Some webbing straps have wire woven in them for strength. Manufacturer's catalogs should be consulted for information on product characteristics and load ratings. Factor of safety for fabric materials used in overhead lifts usually is 20. However , consult the manufacturer' s catalog and follow its recommendations to match the service conditions .\\nC Based on safety test data, it has been determined that nylon web slings have severely reduced capacity when used to lift loads having sharp edges, ie. when the radius is less than 3/16 inch (.48 cm.) Figure 1 shows the rated capacity of nylon rope slings .\\n3/16,  = (.48). 3/16, REDUCTION IN RATED CAPACITY % = NONE. 5/32,  = (.397). 5/32, REDUCTION IN RATED CAPACITY % = 5. 1/8,  = (.318). 1/8, REDUCTION IN RATED CAPACITY % = 15. 3/32,  = (.238). 3/32, REDUCTION IN RATED CAPACITY % = 25. 1/16,  = (.159). 1/16, REDUCTION IN RATED CAPACITY % = 40. 1/32,  = (.079). 1/32, REDUCTION IN RATED CAPACITY % = 55. ,  = . , REDUCTION IN RATED CAPACITY % = 85\\n3-20-05\\nPAGE 1\\nOCT 10/90\\n\\n\\n---\\n\\n\\nSource: D8200-ARM.pdf\\nType: text\\nID: 42949673000.0\\n\\nContent:\\nE Check that tethering lines are taut.\\nNOTE: Revlew the procedures with all crew members so they can anticipate problems of safety to personnel and alrcraft.\\n\\n\\n---\\n\\n\\nSource: D8200-ARM.pdf\\nType: text\\nID: 42949673007.0\\n\\nContent:\\nA Forward Fuselage The sling used should be 12t0 18 inches (30.48 t0 45.72 cm) wide and rated at 15,000 pounds (6804 Kg) maximum safe working load.\\nCAUTION: VENT ANY CRUSHING OF FUSELAGE.\\nB. sling similar to that above can be fabricated in short time if the materials are available.\\nNOTE: A safety factor of 5 to (ultlmate strength to maximum working load) should be Included In the design calculatlons.\\nC Place thick padding between the sling and skin to distribute load and reduce local abrasion.\\nD. Hook sling t0 crane and take up slack.\\n3-20-03\\nPAGE 6\\nOCT 10/90\\nFIGURE 3\\n\""
      ]
     },
     "execution_count": 18,
     "metadata": {},
     "output_type": "execute_result"
    }
   ],
   "source": [
    "# Format documents for gradio chat display\n",
    "documents = result.get(\"custom_outputs\", {}).get(\"documents\", [])\n",
    "formatted_docs = []\n",
    "\n",
    "for doc in documents:\n",
    "    metadata = doc.get(\"metadata\", {})\n",
    "    content = doc.get(\"page_content\", \"\")\n",
    "    \n",
    "    formatted_text = f\"\"\"\n",
    "Source: {metadata.get('filename', 'Unknown')}\n",
    "Type: {metadata.get('type', 'Unknown')}\n",
    "ID: {metadata.get('id', 'Unknown')}\n",
    "\n",
    "Content:\n",
    "{content}\n",
    "\"\"\"\n",
    "    formatted_docs.append(formatted_text)\n",
    "\n",
    "\"\\n\\n---\\n\\n\".join(formatted_docs)"
   ]
  }
 ],
 "metadata": {
  "kernelspec": {
   "display_name": "Python 3",
   "language": "python",
   "name": "python3"
  },
  "language_info": {
   "codemirror_mode": {
    "name": "ipython",
    "version": 3
   },
   "file_extension": ".py",
   "mimetype": "text/x-python",
   "name": "python",
   "nbconvert_exporter": "python",
   "pygments_lexer": "ipython3",
   "version": "3.11.11"
  }
 },
 "nbformat": 4,
 "nbformat_minor": 2
}
