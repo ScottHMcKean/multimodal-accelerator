{
 "cells": [
  {
   "cell_type": "code",
   "execution_count": 1,
   "metadata": {},
   "outputs": [
    {
     "name": "stderr",
     "output_type": "stream",
     "text": [
      "/Users/scott.mckean/Repos/multimodal-accelerator/.venv/lib/python3.11/site-packages/pydantic/_internal/_fields.py:192: UserWarning: Field name \"schema\" in \"RetrieverConfig\" shadows an attribute in parent \"ConfigModel\"\n",
      "  warnings.warn(\n"
     ]
    }
   ],
   "source": [
    "# load config\n",
    "from pathlib import Path\n",
    "import mlflow\n",
    "from maud.agent.config import parse_config\n",
    "import os\n",
    "\n",
    "root_dir = Path(os.getcwd()).parent\n",
    "config_path = root_dir / 'implementations' / 'agents' / 'langgraph' / 'config.yaml'\n",
    "agent_path = root_dir / 'implementations' / 'agents' / 'langgraph' / 'agent.py'\n",
    "\n",
    "mlflow_config = mlflow.models.ModelConfig(development_config=config_path)\n",
    "maud_config = parse_config(mlflow_config)"
   ]
  },
  {
   "cell_type": "code",
   "execution_count": 2,
   "metadata": {},
   "outputs": [
    {
     "name": "stdout",
     "output_type": "stream",
     "text": [
      "[NOTICE] Using a notebook authentication token. Recommended for development only. For improved performance, please use Service Principal based authentication. To disable this message, pass disable_notice=True to VectorSearchClient().\n"
     ]
    },
    {
     "data": {
      "text/plain": [
       "[Document(metadata={'img_path': '', 'filename': 'D8200-ARM.pdf', 'type': 'text', 'id': 60129542171.0}, page_content='A Peabody-Barnes 651 N. Main St. Mansfield , OH 44902\\nA UBM Engineering Ltd. Lower William St. Northam Southampton England 509 2DN'),\n",
       " Document(metadata={'img_path': '', 'filename': 'D8200-ARM.pdf', 'type': 'text', 'id': 34359738423.0}, page_content='MATL:\\nSCREW PIN DROP FORGED STEEL'),\n",
       " Document(metadata={'img_path': '', 'filename': '01-0571-0011_Rev06_07-07.pdf', 'type': 'text', 'id': 3.0}, page_content='.................................................................................................................................................................. 2. 2.1, 2 = . 3.0, 1 = OPERATION .................................................................................................................................................................. 2. 3.0, 2 = . 3.1, 1 = MAINTENANCE CHECKLIST .................................................................................................................................... 2. 3.1, 2 = . , 1 =')]"
      ]
     },
     "execution_count": 2,
     "metadata": {},
     "output_type": "execute_result"
    }
   ],
   "source": [
    "from maud.agent.retrievers import get_vector_retriever\n",
    "retriever = get_vector_retriever(maud_config)\n",
    "retriever.invoke(\"What is Databricks?\")"
   ]
  },
  {
   "cell_type": "code",
   "execution_count": 3,
   "metadata": {},
   "outputs": [
    {
     "data": {
      "text/plain": [
       "AIMessage(content=\"Databricks is a cloud-based data engineering platform that provides a fast, easy, and collaborative Apache Spark-based platform for data engineering, data science, and data analytics. It was founded by the original creators of Apache Spark and is designed to simplify the process of working with big data and machine learning.\\n\\nDatabricks offers a range of features and tools that enable users to:\\n\\n1. **Process large-scale data**: Databricks provides a scalable and performant platform for processing large datasets, including support for batch and real-time data processing.\\n2. **Build and deploy machine learning models**: Databricks offers a range of machine learning libraries and frameworks, including TensorFlow, PyTorch, and scikit-learn, making it easy to build, train, and deploy machine learning models.\\n3. **Collaborate on data projects**: Databricks provides a collaborative environment for data engineers, data scientists, and data analysts to work together on data projects, including features like notebooks, version control, and commenting.\\n4. **Integrate with other tools and platforms**: Databricks supports integration with a range of data sources, including cloud storage, databases, and messaging systems, as well as popular data science tools like Jupyter Notebooks and RStudio.\\n\\nSome of the key benefits of using Databricks include:\\n\\n* **Faster time-to-insight**: Databricks provides a fast and scalable platform for data processing and machine learning, enabling users to quickly gain insights from their data.\\n* **Improved collaboration**: Databricks' collaborative environment makes it easy for teams to work together on data projects, reducing the time and effort required to complete projects.\\n* **Simplified data engineering**: Databricks provides a range of tools and features that simplify the process of data engineering, including data ingestion, processing, and storage.\\n\\nDatabricks is commonly used in a range of industries, including:\\n\\n* **Financial services**: For risk management, fraud detection, and portfolio optimization.\\n* **Healthcare**: For medical research, patient outcomes analysis, and personalized medicine.\\n* **Retail**: For customer segmentation, recommendation engines, and supply chain optimization.\\n* **Manufacturing**: For predictive maintenance, quality control, and supply chain optimization.\\n\\nOverall, Databricks is a powerful platform for data engineering, data science, and data analytics that enables users to quickly and easily work with big data and machine learning.\", additional_kwargs={}, response_metadata={'prompt_tokens': 17, 'completion_tokens': 481, 'total_tokens': 498}, id='run-38fd9722-b034-4552-b185-19731aaa74f5-0')"
      ]
     },
     "execution_count": 3,
     "metadata": {},
     "output_type": "execute_result"
    }
   ],
   "source": [
    "from databricks_langchain import ChatDatabricks\n",
    "model = ChatDatabricks(endpoint=maud_config.model.endpoint_name)\n",
    "model.invoke(\"What is Databricks?\")"
   ]
  },
  {
   "cell_type": "code",
   "execution_count": 4,
   "metadata": {},
   "outputs": [],
   "source": [
    "from langgraph.graph.state import CompiledStateGraph\n",
    "from langgraph.graph import StateGraph, END, START\n",
    "from maud.agent.states import get_state\n",
    "from maud.agent.nodes import make_query_vector_database, make_generation"
   ]
  },
  {
   "cell_type": "code",
   "execution_count": 6,
   "metadata": {},
   "outputs": [],
   "source": [
    "from typing import TypedDict, Annotated, List, Union\n",
    "from operator import add\n",
    "\n",
    "class GraphState(TypedDict):\n",
    "  messages: Annotated[List[dict[str,str]], add]\n",
    "  generated_question: List[dict[str,str]]\n",
    "  context: List[str]\n",
    "\n",
    "state = GraphState\n",
    "\n",
    "query_vector_database = make_query_vector_database(retriever)\n",
    "generation = make_generation(model)\n",
    "\n",
    "workflow = StateGraph(state)\n",
    "workflow.add_node(\"query_vector_database\", query_vector_database)\n",
    "workflow.add_node(\"generation\", generation)\n",
    "workflow.add_edge(START, \"generation\")\n",
    "app = workflow.compile()"
   ]
  },
  {
   "cell_type": "code",
   "execution_count": 9,
   "metadata": {},
   "outputs": [
    {
     "data": {
      "text/plain": [
       "{'messages': [HumanMessage(content='What is SQL?', additional_kwargs={}, response_metadata={}),\n",
       "  {'role': 'assistant',\n",
       "   'content': \"So SQL, or Structured Query Language, is a programming language designed for managing and manipulating data stored in relational database management systems (RDBMS). It's a standard language for accessing, managing, and modifying data in relational databases, and is widely used for storing, updating, and retrieving data in a variety of applications, from simple websites to complex enterprise systems.\"}]}"
      ]
     },
     "execution_count": 9,
     "metadata": {},
     "output_type": "execute_result"
    }
   ],
   "source": [
    "from langchain_core.messages import HumanMessage\n",
    "app.invoke({\"messages\": [HumanMessage(content=\"What is SQL?\")]})"
   ]
  }
 ],
 "metadata": {
  "kernelspec": {
   "display_name": "Python 3",
   "language": "python",
   "name": "python3"
  },
  "language_info": {
   "codemirror_mode": {
    "name": "ipython",
    "version": 3
   },
   "file_extension": ".py",
   "mimetype": "text/x-python",
   "name": "python",
   "nbconvert_exporter": "python",
   "pygments_lexer": "ipython3",
   "version": "3.11.11"
  }
 },
 "nbformat": 4,
 "nbformat_minor": 2
}
