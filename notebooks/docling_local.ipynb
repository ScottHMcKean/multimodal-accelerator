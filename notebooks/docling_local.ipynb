{
 "cells": [
  {
   "cell_type": "code",
   "execution_count": 0,
   "metadata": {
    "application/vnd.databricks.v1+cell": {
     "cellMetadata": {
      "byteLimit": 2048000,
      "rowLimit": 10000
     },
     "inputWidgets": {},
     "nuid": "8ebd7418-e5fa-480d-9885-f4cf579c4cc6",
     "showTitle": false,
     "tableResultSettingsMap": {},
     "title": ""
    }
   },
   "outputs": [],
   "source": [
    "from maud.document.converters import DoclingConverterAdapter\n",
    "from pathlib import Path"
   ]
  },
  {
   "cell_type": "code",
   "execution_count": 0,
   "metadata": {
    "application/vnd.databricks.v1+cell": {
     "cellMetadata": {
      "byteLimit": 2048000,
      "rowLimit": 10000
     },
     "inputWidgets": {},
     "nuid": "5f60ebdc-b660-48d8-bb34-016d37f08099",
     "showTitle": false,
     "tableResultSettingsMap": {},
     "title": ""
    }
   },
   "outputs": [],
   "source": [
    "pdf_input_path = Path('../data/files/92ab18cd-55d7-5c30-a347-2369dd751f74.pdf')\n",
    "doc_input_path = Path('../data/files/om-procedure-template.docx')\n",
    "ppt_input_path = Path('../data/files/istchenko.pptx')\n",
    "xls_input_path = Path('../data/files/Warehouse Equipment Maintenance Schedule.xlsx')\n",
    "output_dir = Path('../data/output')"
   ]
  },
  {
   "cell_type": "code",
   "execution_count": 0,
   "metadata": {
    "application/vnd.databricks.v1+cell": {
     "cellMetadata": {
      "byteLimit": 2048000,
      "rowLimit": 10000
     },
     "inputWidgets": {},
     "nuid": "1aa76eb5-f941-4390-b795-add4a3ec58f0",
     "showTitle": false,
     "tableResultSettingsMap": {},
     "title": ""
    }
   },
   "outputs": [],
   "source": [
    "import pandas as pd\n",
    "from pathlib import Path\n",
    "\n",
    "from docling_core.types.doc import ImageRefMode, PictureItem, TableItem\n",
    "from docling.datamodel.base_models import FigureElement, InputFormat, Table\n",
    "from docling.datamodel.pipeline_options import PdfPipelineOptions\n",
    "from docling.datamodel.document import DoclingDocument\n",
    "from docling.document_converter import (\n",
    "    DocumentConverter,\n",
    "    PdfFormatOption,\n",
    "    WordFormatOption,\n",
    "    PowerpointFormatOption,\n",
    "    ExcelFormatOption,\n",
    ")\n",
    "from docling.pipeline.simple_pipeline import SimplePipeline\n",
    "\n",
    "# setup the conversion pipeline to extract images and tables automatically\n",
    "pdf_pipe_options = PdfPipelineOptions()\n",
    "pdf_pipe_options.images_scale = 2.0 #144 DPI\n",
    "pdf_pipe_options.generate_page_images = True\n",
    "pdf_pipe_options.generate_picture_images = True\n",
    "pdf_pipe_options.generate_table_images = True\n",
    "\n",
    "docling_format_options={\n",
    "    InputFormat.PDF: PdfFormatOption(pipeline_options=pdf_pipe_options),\n",
    "    InputFormat.DOCX: WordFormatOption(pipeline_cls=SimplePipeline),\n",
    "    InputFormat.PPTX: PowerpointFormatOption(pipeline_cls=SimplePipeline),\n",
    "    InputFormat.XLSX: ExcelFormatOption(pipeline_cls=SimplePipeline),\n",
    "}"
   ]
  },
  {
   "cell_type": "code",
   "execution_count": 0,
   "metadata": {
    "application/vnd.databricks.v1+cell": {
     "cellMetadata": {
      "byteLimit": 2048000,
      "rowLimit": 10000
     },
     "inputWidgets": {},
     "nuid": "7bc7eeb5-dc63-4b5d-b1e1-ccd2681fe58b",
     "showTitle": false,
     "tableResultSettingsMap": {},
     "title": ""
    }
   },
   "outputs": [],
   "source": [
    "\n",
    "converter = DoclingConverterAdapter(\n",
    "    doc_input_path,\n",
    "    output_dir,\n",
    "    format_options=docling_format_options\n",
    "    )\n",
    "\n",
    "docling_document = converter.convert()"
   ]
  },
  {
   "cell_type": "code",
   "execution_count": 0,
   "metadata": {
    "application/vnd.databricks.v1+cell": {
     "cellMetadata": {
      "byteLimit": 2048000,
      "rowLimit": 10000
     },
     "inputWidgets": {},
     "nuid": "0bb26108-a3da-4c99-9809-a3b8e6b8458d",
     "showTitle": false,
     "tableResultSettingsMap": {},
     "title": ""
    }
   },
   "outputs": [],
   "source": [
    "docling_document.export_to_dict()"
   ]
  }
 ],
 "metadata": {
  "application/vnd.databricks.v1+notebook": {
   "computePreferences": null,
   "dashboards": [],
   "environmentMetadata": null,
   "language": "python",
   "notebookMetadata": {
    "pythonIndentUnit": 2
   },
   "notebookName": "docling_local",
   "widgets": {}
  },
  "kernelspec": {
   "display_name": "Python 3",
   "language": "python",
   "name": "python3"
  },
  "language_info": {
   "name": "python"
  }
 },
 "nbformat": 4,
 "nbformat_minor": 0
}
