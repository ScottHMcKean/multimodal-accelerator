{
 "cells": [
  {
   "cell_type": "code",
   "execution_count": 5,
   "metadata": {},
   "outputs": [],
   "source": [
    "# load config\n",
    "from pathlib import Path\n",
    "import mlflow\n",
    "from maud.agent.config import parse_config\n",
    "import os\n",
    "\n",
    "root_dir = Path(os.getcwd()).parent\n",
    "config_path = root_dir / 'implementations' / 'agents' / 'openai' / 'config.yaml'\n",
    "agent_path = root_dir / 'implementations' / 'agents' / 'openai' / 'agent.py'\n",
    "\n",
    "mlflow_config = mlflow.models.ModelConfig(development_config=config_path)\n",
    "maud_config = parse_config(mlflow_config)"
   ]
  },
  {
   "cell_type": "code",
   "execution_count": 3,
   "metadata": {},
   "outputs": [],
   "source": [
    "from implementations.agents.openai.agent import FunctionCallingAgent\n",
    "from data.messages.input_examples import input_example"
   ]
  },
  {
   "cell_type": "code",
   "execution_count": 6,
   "metadata": {},
   "outputs": [
    {
     "data": {
      "text/plain": [
       "ChatCompletionResponse(choices=[ChatChoice(message=ChatMessage(role='assistant', content='So... Apache Spark does support streaming data processing through its module called Structured Streaming. This allows for the processing of real-time data streams from various sources, such as Kafka, Flume, and socket connections, and provides a high-level API for processing streams in a similar way to batch data. It supports event-time processing, late arrival handling, and other features that make it suitable for a wide range of streaming use cases.', refusal=None, name=None, tool_calls=None, tool_call_id=None), index=0, finish_reason='stop', logprobs=None)], usage=TokenUsageStats(prompt_tokens=832, completion_tokens=86, total_tokens=918), id='chatcmpl_7d40f187-5755-41f5-a749-290c3416dbd0', model='meta-llama-3.3-70b-instruct-121024', object='chat.completion', created=1739246194, custom_outputs=None)"
      ]
     },
     "execution_count": 6,
     "metadata": {},
     "output_type": "execute_result"
    }
   ],
   "source": [
    "agent = FunctionCallingAgent(config=maud_config)\n",
    "agent.predict(messages=input_example['messages'])"
   ]
  }
 ],
 "metadata": {
  "kernelspec": {
   "display_name": "Python 3",
   "language": "python",
   "name": "python3"
  },
  "language_info": {
   "codemirror_mode": {
    "name": "ipython",
    "version": 3
   },
   "file_extension": ".py",
   "mimetype": "text/x-python",
   "name": "python",
   "nbconvert_exporter": "python",
   "pygments_lexer": "ipython3",
   "version": "3.11.11"
  }
 },
 "nbformat": 4,
 "nbformat_minor": 2
}
